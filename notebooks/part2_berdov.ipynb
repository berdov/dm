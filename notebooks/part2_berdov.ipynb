{
 "cells": [
  {
   "cell_type": "markdown",
   "id": "c902dd0c",
   "metadata": {},
   "source": [
    "## Часть 2\n",
    "\n"
   ]
  },
  {
   "cell_type": "markdown",
   "id": "f1cad562",
   "metadata": {},
   "source": [
    "- Я хочу проанализировать все возможные характеристики для KNN-графа и выбрать, какая из них работает лучше. Это минимальная и макимальная степени, число точек сочленения, число треугольников и число компонент связности."
   ]
  },
  {
   "cell_type": "code",
   "execution_count": 33,
   "id": "676ef94b",
   "metadata": {},
   "outputs": [
    {
     "data": {
      "text/plain": [
       "<module 'functions' from '/Users/berdov/dm_pr/dm/src/functions.py'>"
      ]
     },
     "execution_count": 33,
     "metadata": {},
     "output_type": "execute_result"
    }
   ],
   "source": [
    "import sys\n",
    "import os\n",
    "\n",
    "sys.path.append(os.path.abspath(os.path.join('..', 'src')))\n",
    "\n",
    "import importlib\n",
    "import functions\n",
    "importlib.reload(functions)"
   ]
  },
  {
   "cell_type": "code",
   "execution_count": 34,
   "id": "4f7b9a46",
   "metadata": {},
   "outputs": [],
   "source": [
    "from functions import max_degree\n",
    "from functions import min_degree\n",
    "from functions import count_articulation_points\n",
    "from functions import count_triangles\n",
    "from functions import count_components"
   ]
  },
  {
   "cell_type": "markdown",
   "id": "c70ac1c0",
   "metadata": {},
   "source": [
    "- Теперь я подключу функции генерации распределений и многократного проведения эксперимента\n"
   ]
  },
  {
   "cell_type": "code",
   "execution_count": 35,
   "id": "2aeaa4ab",
   "metadata": {},
   "outputs": [],
   "source": [
    "from functions import (\n",
    "    build_knn_graph,\n",
    "    sample_normal,\n",
    "    sample_t,\n",
    "    monte_carlo_characteristic\n",
    ")"
   ]
  },
  {
   "cell_type": "markdown",
   "id": "72307376",
   "metadata": {},
   "source": [
    "- Теперь все готово к анализу, какая же характеристика лучше"
   ]
  },
  {
   "cell_type": "code",
   "execution_count": 36,
   "id": "75b327d6",
   "metadata": {},
   "outputs": [
    {
     "name": "stdout",
     "output_type": "stream",
     "text": [
      "Анализ: Макс. степень\n",
      "Анализ: Мин. степень\n",
      "Анализ: Компоненты\n",
      "Анализ: Сочленения\n",
      "Анализ: Треугольники\n",
      "Анализ: Макс. степень\n",
      "Анализ: Мин. степень\n",
      "Анализ: Компоненты\n",
      "Анализ: Сочленения\n",
      "Анализ: Треугольники\n",
      "Анализ: Макс. степень\n",
      "Анализ: Мин. степень\n",
      "Анализ: Компоненты\n",
      "Анализ: Сочленения\n",
      "Анализ: Треугольники\n",
      "Анализ: Макс. степень\n",
      "Анализ: Мин. степень\n",
      "Анализ: Компоненты\n",
      "Анализ: Сочленения\n",
      "Анализ: Треугольники\n",
      "Анализ: Макс. степень\n",
      "Анализ: Мин. степень\n",
      "Анализ: Компоненты\n",
      "Анализ: Сочленения\n",
      "Анализ: Треугольники\n",
      "Анализ: Макс. степень\n",
      "Анализ: Мин. степень\n",
      "Анализ: Компоненты\n",
      "Анализ: Сочленения\n",
      "Анализ: Треугольники\n",
      "Анализ: Макс. степень\n",
      "Анализ: Мин. степень\n",
      "Анализ: Компоненты\n",
      "Анализ: Сочленения\n",
      "Анализ: Треугольники\n",
      "     k Характеристика  AUC ROC  Power (H1)  Порог (95% H0)\n",
      "0    1  Макс. степень    0.500       0.000            2.00\n",
      "1    1   Мин. степень    0.500       0.000            1.00\n",
      "2    1     Компоненты    0.526       0.055           36.00\n",
      "3    1     Сочленения    0.482       0.015           42.00\n",
      "4    1   Треугольники    0.500       0.000            0.00\n",
      "5    3  Макс. степень    0.510       0.000            6.00\n",
      "6    3   Мин. степень    0.500       0.000            3.00\n",
      "7    3     Компоненты    0.522       0.075            8.00\n",
      "8    3     Сочленения    0.500       0.070           26.00\n",
      "9    3   Треугольники    0.562       0.075          125.05\n",
      "10   5  Макс. степень    0.459       0.000           10.00\n",
      "11   5   Мин. степень    0.500       0.000            5.00\n",
      "12   5     Компоненты    0.499       0.020            3.00\n",
      "13   5     Сочленения    0.500       0.030           10.00\n",
      "14   5   Треугольники    0.628       0.140          391.15\n",
      "15  10  Макс. степень    0.658       0.030           19.00\n",
      "16  10   Мин. степень    0.500       0.000           10.00\n",
      "17  10     Компоненты    0.492       0.000            1.00\n",
      "18  10     Сочленения    0.520       0.010            1.00\n",
      "19  10   Треугольники    0.789       0.260         1741.10\n",
      "20  20  Макс. степень    0.669       0.115           35.00\n",
      "21  20   Мин. степень    0.500       0.000           20.00\n",
      "22  20     Компоненты    0.500       0.000            1.00\n",
      "23  20     Сочленения    0.500       0.000            0.00\n",
      "24  20   Треугольники    0.950       0.760         7517.20\n",
      "25  40  Макс. степень    0.647       0.110           68.00\n",
      "26  40   Мин. степень    0.500       0.000           40.00\n",
      "27  40     Компоненты    0.500       0.000            1.00\n",
      "28  40     Сочленения    0.500       0.000            0.00\n",
      "29  40   Треугольники    0.936       0.660        34458.40\n",
      "30  60  Макс. степень    0.500       0.000           99.00\n",
      "31  60   Мин. степень    0.500       0.000           60.00\n",
      "32  60     Компоненты    0.500       0.000            1.00\n",
      "33  60     Сочленения    0.500       0.000            0.00\n",
      "34  60   Треугольники    0.961       0.795        79926.00\n"
     ]
    }
   ],
   "source": [
    "import numpy as np\n",
    "import pandas as pd\n",
    "from sklearn.metrics import roc_auc_score\n",
    "import matplotlib.pyplot as plt\n",
    "\n",
    "\n",
    "characteristics = {\n",
    "    'Макс. степень': max_degree,\n",
    "    'Мин. степень': min_degree,\n",
    "    'Компоненты': count_components,\n",
    "    'Сочленения': count_articulation_points,\n",
    "    'Треугольники': count_triangles\n",
    "}\n",
    "\n",
    "summary = []\n",
    "\n",
    "n = 100\n",
    "k = [1, 3, 5, 10, 20, 40, 60]\n",
    "n_sim = 200\n",
    "alpha = 0.05\n",
    "\n",
    "\n",
    "summary = []\n",
    "\n",
    "for k in k:\n",
    "    for name, func in characteristics.items():\n",
    "        print(f\"Анализ: {name}\")\n",
    "        lambda_H0 = 0.5**0.5\n",
    "        lambda_H1 = 1\n",
    "        X0_raw = monte_carlo_characteristic(sample_normal, lambda X: build_knn_graph(X, k), func, 1, n=n, n_sim=n_sim)\n",
    "        X1_raw = monte_carlo_characteristic(sample_t, lambda X: build_knn_graph(X, k), func, 3, n=n, n_sim=n_sim)\n",
    "        if np.median(X0_raw) < np.median(X1_raw):\n",
    "            T_H0, T_H1 = X0_raw, X1_raw\n",
    "        else:\n",
    "            T_H0, T_H1 = X1_raw, X0_raw\n",
    "\n",
    "        threshold = np.percentile(T_H0, 100 * (1 - alpha))\n",
    "        power = np.mean(T_H1 > threshold)\n",
    "        auc = roc_auc_score([0]*len(T_H0) + [1]*len(T_H1), np.concatenate([T_H0, T_H1]))\n",
    "        summary.append({\n",
    "            'k': k,\n",
    "            'Характеристика': name,\n",
    "            'AUC ROC': round(auc, 3),\n",
    "            'Power (H1)': round(power, 3),\n",
    "            'Порог (95% H0)': round(threshold, 2)\n",
    "        })\n",
    "\n",
    "df_summary = pd.DataFrame(summary)\n",
    "print(df_summary)\n"
   ]
  },
  {
   "cell_type": "markdown",
   "id": "a3549d8a",
   "metadata": {},
   "source": [
    "# Вывод для KNN-графа"
   ]
  },
  {
   "cell_type": "markdown",
   "id": "6e4ff647",
   "metadata": {},
   "source": [
    "- отвратительно отработали абсолютно все арактеристики, кроме числа треугольников, причем этот вывод почти не меняется в зависимости от разного K. При больших K критерий число треугольников становится все более точным, в то время как остальные характеристики становятся все менее отличимы. буду все переделывать. Теперь буду строить DIST-граф и считать у него хроматическое число, кликовое число, размер максимального независимого множества, доминирующее число, размер минимального кликового покрытия"
   ]
  },
  {
   "cell_type": "code",
   "execution_count": 37,
   "id": "cd9d0436",
   "metadata": {},
   "outputs": [],
   "source": [
    "from functions import chromatic_number\n",
    "from functions import clique_number\n",
    "from functions import max_independent_set_size\n",
    "from functions import domination_number\n",
    "from functions import clique_cover_number"
   ]
  },
  {
   "cell_type": "markdown",
   "id": "ccb226a2",
   "metadata": {},
   "source": [
    "- повторим анализ аналогичным образом"
   ]
  },
  {
   "cell_type": "code",
   "execution_count": 38,
   "id": "90b5b2f8",
   "metadata": {},
   "outputs": [],
   "source": [
    "from functions import (\n",
    "    build_dist_graph,\n",
    "    sample_normal,\n",
    "    sample_t,\n",
    "    monte_carlo_characteristic\n",
    ")\n",
    "\n",
    "\n",
    "from networkx.algorithms import approximation as approx"
   ]
  },
  {
   "cell_type": "code",
   "execution_count": 39,
   "id": "602afc4b",
   "metadata": {},
   "outputs": [
    {
     "name": "stdout",
     "output_type": "stream",
     "text": [
      "Анализ: Хроматическое число\n",
      "Анализ: Кликовое число\n",
      "Анализ: Макс. независимое множество\n",
      "Анализ: Доминирование\n",
      "Анализ: Кликовое покрытие\n",
      "Анализ: Хроматическое число\n",
      "Анализ: Кликовое число\n",
      "Анализ: Макс. независимое множество\n",
      "Анализ: Доминирование\n",
      "Анализ: Кликовое покрытие\n",
      "Анализ: Хроматическое число\n",
      "Анализ: Кликовое число\n",
      "Анализ: Макс. независимое множество\n",
      "Анализ: Доминирование\n",
      "Анализ: Кликовое покрытие\n",
      "Анализ: Хроматическое число\n",
      "Анализ: Кликовое число\n",
      "Анализ: Макс. независимое множество\n",
      "Анализ: Доминирование\n",
      "Анализ: Кликовое покрытие\n",
      "Анализ: Хроматическое число\n",
      "Анализ: Кликовое число\n",
      "Анализ: Макс. независимое множество\n",
      "Анализ: Доминирование\n",
      "Анализ: Кликовое покрытие\n",
      "      d               Характеристика  AUC ROC  Power (H1)  Порог (95% H0)\n",
      "0   0.1          Хроматическое число    0.638       0.125           10.05\n",
      "1   0.1               Кликовое число    0.642       0.040           11.00\n",
      "2   0.1  Макс. независимое множество    0.975       0.835           30.00\n",
      "3   0.1                Доминирование    0.685       0.000          100.00\n",
      "4   0.1            Кликовое покрытие    0.639       0.095           10.00\n",
      "5   0.3          Хроматическое число    0.664       0.035           21.00\n",
      "6   0.3               Кликовое число    0.664       0.105           20.05\n",
      "7   0.3  Макс. независимое множество    0.987       0.895           14.00\n",
      "8   0.3                Доминирование    0.695       0.080           99.00\n",
      "9   0.3            Кликовое покрытие    0.656       0.055           20.00\n",
      "10  0.5          Хроматическое число    0.752       0.085           29.00\n",
      "11  0.5               Кликовое число    0.689       0.115           28.00\n",
      "12  0.5  Макс. независимое множество    0.996       0.980            9.00\n",
      "13  0.5                Доминирование    0.757       0.210           97.00\n",
      "14  0.5            Кликовое покрытие    0.650       0.115           27.00\n",
      "15  1.0          Хроматическое число    0.737       0.195           46.05\n",
      "16  1.0               Кликовое число    0.754       0.225           46.00\n",
      "17  1.0  Макс. независимое множество    0.981       0.955            5.00\n",
      "18  1.0                Доминирование    0.904       0.270           96.00\n",
      "19  1.0            Кликовое покрытие    0.702       0.160           44.00\n",
      "20  2.0          Хроматическое число    0.875       0.545           70.00\n",
      "21  2.0               Кликовое число    0.892       0.520           71.00\n",
      "22  2.0  Макс. независимое множество    0.975       0.905            3.00\n",
      "23  2.0                Доминирование    0.963       0.860           71.10\n",
      "24  2.0            Кликовое покрытие    0.849       0.395           70.00\n"
     ]
    }
   ],
   "source": [
    "characteristics = {\n",
    "    'Хроматическое число': chromatic_number,\n",
    "    'Кликовое число': clique_number,\n",
    "    'Макс. независимое множество': max_independent_set_size,\n",
    "    'Доминирование': domination_number,\n",
    "    'Кликовое покрытие': clique_cover_number\n",
    "}\n",
    "\n",
    "summary = []\n",
    "\n",
    "n = 100\n",
    "d = [0.1, 0.3, 0.5, 1, 2]\n",
    "n_sim = 200\n",
    "alpha = 0.05\n",
    "\n",
    "\n",
    "summary = []\n",
    "\n",
    "for d in d:\n",
    "    for name, func in characteristics.items():\n",
    "        print(f\"Анализ: {name}\")\n",
    "        lambda_H0 = 0.5**0.5\n",
    "        lambda_H1 = 1\n",
    "        X0_raw = monte_carlo_characteristic(sample_normal, lambda X: build_dist_graph(X, d), func, 1, n=n, n_sim=n_sim)\n",
    "        X1_raw = monte_carlo_characteristic(sample_t, lambda X: build_dist_graph(X, d), func, 3, n=n, n_sim=n_sim)\n",
    "        if np.median(X0_raw) < np.median(X1_raw):\n",
    "            T_H0, T_H1 = X0_raw, X1_raw\n",
    "        else:\n",
    "            T_H0, T_H1 = X1_raw, X0_raw\n",
    "\n",
    "        threshold = np.percentile(T_H0, 100 * (1 - alpha))\n",
    "        power = np.mean(T_H1 > threshold)\n",
    "        auc = roc_auc_score([0]*len(T_H0) + [1]*len(T_H1), np.concatenate([T_H0, T_H1]))\n",
    "        summary.append({\n",
    "            'd': d,\n",
    "            'Характеристика': name,\n",
    "            'AUC ROC': round(auc, 3),\n",
    "            'Power (H1)': round(power, 3),\n",
    "            'Порог (95% H0)': round(threshold, 2)\n",
    "        })\n",
    "\n",
    "df_summary = pd.DataFrame(summary)\n",
    "print(df_summary)\n",
    "\n"
   ]
  },
  {
   "cell_type": "markdown",
   "id": "69136b88",
   "metadata": {},
   "source": [
    "# Вывод для DIST - графа"
   ]
  },
  {
   "cell_type": "markdown",
   "id": "602a3f58",
   "metadata": {},
   "source": [
    "- до чего же хорошие распределения мне выдали проверяющие. У всех моих экспериментов есть только 1 критерий, который хорошо отвечает на поставленную задачу: размер максимального незавимисого множества в DIST-графе. У него мощность = 1, остальные критерии справились очень плохо. Очевидно, для обучения модели надо выбрать DIST-граф. Обратим внимание, что с ростом d качество параметра доминирование растет существенно быстрее остальных. Например, при d = 2 параметр показал такую же эффективность, как и размер максимального независимого множества. "
   ]
  },
  {
   "cell_type": "markdown",
   "id": "b8ea637b",
   "metadata": {},
   "source": [
    "# Оценим важность характеристик с ростом n, зафиксируем d = 2."
   ]
  },
  {
   "cell_type": "code",
   "execution_count": 42,
   "id": "7d55109f",
   "metadata": {},
   "outputs": [
    {
     "name": "stdout",
     "output_type": "stream",
     "text": [
      "Анализ: Хроматическое число\n",
      "Анализ: Кликовое число\n",
      "Анализ: Макс. независимое множество\n",
      "Анализ: Доминирование\n",
      "Анализ: Кликовое покрытие\n",
      "Анализ: Хроматическое число\n",
      "Анализ: Кликовое число\n",
      "Анализ: Макс. независимое множество\n",
      "Анализ: Доминирование\n",
      "Анализ: Кликовое покрытие\n",
      "Анализ: Хроматическое число\n",
      "Анализ: Кликовое число\n",
      "Анализ: Макс. независимое множество\n",
      "Анализ: Доминирование\n",
      "Анализ: Кликовое покрытие\n",
      "Анализ: Хроматическое число\n",
      "Анализ: Кликовое число\n",
      "Анализ: Макс. независимое множество\n",
      "Анализ: Доминирование\n",
      "Анализ: Кликовое покрытие\n",
      "      n               Характеристика  AUC ROC  Power (H1)  Порог (95% H0)\n",
      "0    10          Хроматическое число    0.676       0.065            9.00\n",
      "1    10               Кликовое число    0.664       0.055            9.00\n",
      "2    10  Макс. независимое множество    0.325       0.000            3.00\n",
      "3    10                Доминирование    0.754       0.370            6.00\n",
      "4    10            Кликовое покрытие    0.672       0.090            9.00\n",
      "5    25          Хроматическое число    0.719       0.060           21.00\n",
      "6    25               Кликовое число    0.725       0.065           21.00\n",
      "7    25  Макс. независимое множество    0.827       0.250            3.00\n",
      "8    25                Доминирование    0.876       0.545           17.00\n",
      "9    25            Кликовое покрытие    0.713       0.260           19.05\n",
      "10  100          Хроматическое число    0.893       0.445           71.00\n",
      "11  100               Кликовое число    0.895       0.560           70.00\n",
      "12  100  Макс. независимое множество    0.973       0.905            3.00\n",
      "13  100                Доминирование    0.952       0.860           72.05\n",
      "14  100            Кликовое покрытие    0.866       0.420           69.00\n",
      "15  200          Хроматическое число    0.968       0.780          135.00\n",
      "16  200               Кликовое число    0.942       0.680          137.00\n",
      "17  200  Макс. независимое множество    0.993       0.985            3.00\n",
      "18  200                Доминирование    0.993       0.985          142.05\n",
      "19  200            Кликовое покрытие    0.915       0.550          134.00\n"
     ]
    }
   ],
   "source": [
    "\n",
    "summary = []\n",
    "\n",
    "n = [10, 25, 100, 200]\n",
    "n_sim = 200\n",
    "alpha = 0.05\n",
    "d = 2\n",
    "\n",
    "summary = []\n",
    "\n",
    "for n in n:\n",
    "    for name, func in characteristics.items():\n",
    "        print(f\"Анализ: {name}\")\n",
    "        lambda_H0 = 0.5**0.5\n",
    "        lambda_H1 = 1\n",
    "        X0_raw = monte_carlo_characteristic(sample_normal, lambda X: build_dist_graph(X, d), func, 1, n=n, n_sim=n_sim)\n",
    "        X1_raw = monte_carlo_characteristic(sample_t, lambda X: build_dist_graph(X, d), func, 3, n=n, n_sim=n_sim)\n",
    "        if np.median(X0_raw) < np.median(X1_raw):\n",
    "            T_H0, T_H1 = X0_raw, X1_raw\n",
    "        else:\n",
    "            T_H0, T_H1 = X1_raw, X0_raw\n",
    "\n",
    "        threshold = np.percentile(T_H0, 100 * (1 - alpha))\n",
    "        power = np.mean(T_H1 > threshold)\n",
    "        auc = roc_auc_score([0]*len(T_H0) + [1]*len(T_H1), np.concatenate([T_H0, T_H1]))\n",
    "        summary.append({\n",
    "            'n': n,\n",
    "            'Характеристика': name,\n",
    "            'AUC ROC': round(auc, 3),\n",
    "            'Power (H1)': round(power, 3),\n",
    "            'Порог (95% H0)': round(threshold, 2)\n",
    "        })\n",
    "\n",
    "df_summary = pd.DataFrame(summary)\n",
    "print(df_summary)\n",
    "\n"
   ]
  },
  {
   "cell_type": "markdown",
   "id": "34f11854",
   "metadata": {},
   "source": [
    "# Вывод при росте n\n"
   ]
  },
  {
   "cell_type": "markdown",
   "id": "8a8a71e1",
   "metadata": {},
   "source": [
    "- при фиксации правильного d = 2 получили не 1, а 2 хороших критерия для классификации: доминирование и размер макс независимого множества. Остальные тоже показали эффективность, причем ненулевую."
   ]
  },
  {
   "cell_type": "markdown",
   "id": "9deaf9ef",
   "metadata": {},
   "source": [
    "# Обучение моделей\n"
   ]
  },
  {
   "cell_type": "markdown",
   "id": "5ffc819d",
   "metadata": {},
   "source": [
    "- первым делом подключим функцию для создания датасета и собственно говоря сгенерируем его\n"
   ]
  },
  {
   "cell_type": "code",
   "execution_count": 43,
   "id": "8bb1ae5b",
   "metadata": {},
   "outputs": [],
   "source": [
    "from functions import generate_dataset"
   ]
  },
  {
   "cell_type": "markdown",
   "id": "c6cc0e53",
   "metadata": {},
   "source": [
    "- Я принял решение сравнить 3 модели: SVM, случайный лес и логическую регрессию. Проанализируем показатели при n = 25, 100, 500."
   ]
  },
  {
   "cell_type": "code",
   "execution_count": null,
   "id": "19116652",
   "metadata": {},
   "outputs": [
    {
     "name": "stdout",
     "output_type": "stream",
     "text": [
      "\n",
      "n=25, Random Forest:\n",
      "  AUC     = 0.760 ± 0.024\n",
      "  Accuracy= 0.693 ± 0.030\n",
      "  Type I Error = 0.250\n",
      "  Power        = 0.620\n",
      "\n",
      "n=25, Logistic Regression:\n",
      "  AUC     = 0.842 ± 0.033\n",
      "  Accuracy= 0.767 ± 0.045\n",
      "  Type I Error = 0.270\n",
      "  Power        = 0.650\n",
      "\n",
      "n=25, SVM (RBF):\n",
      "  AUC     = 0.840 ± 0.034\n",
      "  Accuracy= 0.750 ± 0.038\n",
      "  Type I Error = 0.280\n",
      "  Power        = 0.640\n",
      "\n",
      "n=100, Random Forest:\n",
      "  AUC     = 0.973 ± 0.021\n",
      "  Accuracy= 0.937 ± 0.027\n",
      "  Type I Error = 0.020\n",
      "  Power        = 0.910\n",
      "\n",
      "n=100, Logistic Regression:\n",
      "  AUC     = 0.990 ± 0.010\n",
      "  Accuracy= 0.955 ± 0.015\n",
      "  Type I Error = 0.030\n",
      "  Power        = 0.910\n",
      "\n",
      "n=100, SVM (RBF):\n",
      "  AUC     = 0.983 ± 0.017\n",
      "  Accuracy= 0.938 ± 0.039\n",
      "  Type I Error = 0.010\n",
      "  Power        = 0.890\n",
      "\n",
      "n=500, Random Forest:\n",
      "  AUC     = 1.000 ± 0.000\n",
      "  Accuracy= 0.998 ± 0.003\n",
      "  Type I Error = 0.000\n",
      "  Power        = 1.000\n",
      "\n",
      "n=500, Logistic Regression:\n",
      "  AUC     = 1.000 ± 0.000\n",
      "  Accuracy= 0.998 ± 0.003\n",
      "  Type I Error = 0.000\n",
      "  Power        = 1.000\n",
      "\n",
      "n=500, SVM (RBF):\n",
      "  AUC     = 0.994 ± 0.004\n",
      "  Accuracy= 0.775 ± 0.042\n",
      "  Type I Error = 0.150\n",
      "  Power        = 1.000\n"
     ]
    }
   ],
   "source": [
    "from sklearn.model_selection import cross_val_score\n",
    "from sklearn.ensemble import RandomForestClassifier\n",
    "from sklearn.linear_model import LogisticRegression\n",
    "from sklearn.svm import SVC\n",
    "from sklearn.metrics import roc_auc_score\n",
    "import numpy as np\n",
    "\n",
    "\n",
    "def evaluate_type1_and_power(clf, df_train, df_H0, df_H1):\n",
    "    X_train = df_train.drop(\"label\", axis=1)\n",
    "    y_train = df_train[\"label\"]\n",
    "    clf.fit(X_train, y_train)\n",
    "\n",
    "    y_pred_H0 = clf.predict(df_H0.drop(\"label\", axis=1))\n",
    "    y_pred_H1 = clf.predict(df_H1.drop(\"label\", axis=1))\n",
    "\n",
    "    type1_error = (y_pred_H0 == 1).mean()\n",
    "    power = (y_pred_H1 == 1).mean()\n",
    "    return type1_error, power\n",
    "\n",
    "\n",
    "models = {\n",
    "    \"Random Forest\": RandomForestClassifier(n_estimators=100, random_state=42),\n",
    "    \"Logistic Regression\": LogisticRegression(max_iter=1000),\n",
    "    \"SVM (RBF)\": SVC(probability=True)\n",
    "}\n",
    "\n",
    "for n_val in [25, 100, 500]:\n",
    "    df_train = generate_dataset(\n",
    "        n=n_val,\n",
    "        d=0.3,\n",
    "        dist_H0=sample_normal,\n",
    "        args_H0=(1,),\n",
    "        dist_H1=sample_t,\n",
    "        args_H1=(3,),\n",
    "        feature_funcs=[max_independent_set_size, domination_number, clique_number, chromatic_number, clique_cover_number],\n",
    "        graph_func=lambda X: build_dist_graph(X, 0.3),\n",
    "        n_sim=300\n",
    "    )\n",
    "    X = df_train.drop(\"label\", axis=1)\n",
    "    y = df_train[\"label\"]\n",
    "\n",
    "    df_H0 = generate_dataset(n=n_val, d=0.3, dist_H0=sample_normal, args_H0=(1,),\n",
    "                             dist_H1=sample_t, args_H1=(3,),\n",
    "                             feature_funcs=[max_independent_set_size, domination_number, clique_number, chromatic_number, clique_cover_number],\n",
    "                             graph_func=lambda X: build_dist_graph(X, 0.3),\n",
    "                             n_sim=100).query(\"label == 0\")\n",
    "\n",
    "    df_H1 = generate_dataset(n=n_val, d=0.3, dist_H0=sample_normal, args_H0=(1,),\n",
    "                             dist_H1=sample_t, args_H1=(3,),\n",
    "                             feature_funcs=[max_independent_set_size, domination_number, clique_number, chromatic_number, clique_cover_number],\n",
    "                             graph_func=lambda X: build_dist_graph(X, 0.3),\n",
    "                             n_sim=100).query(\"label == 1\")\n",
    "\n",
    "    for name, model in models.items():\n",
    "        auc = cross_val_score(model, X, y, cv=5, scoring=\"roc_auc\")\n",
    "        acc = cross_val_score(model, X, y, cv=5, scoring=\"accuracy\")\n",
    "        clf = model.__class__(**model.get_params())\n",
    "        type1_error, power = evaluate_type1_and_power(clf, df_train, df_H0, df_H1)\n",
    "\n",
    "        print()\n",
    "        print(f\"n={n_val}, {name}:\")\n",
    "        print(f\"  AUC     = {auc.mean():.3f} ± {auc.std():.3f}\")\n",
    "        print(f\"  Accuracy= {acc.mean():.3f} ± {acc.std():.3f}\")\n",
    "        print(f\"  Type I Error = {type1_error:.3f}\")\n",
    "        print(f\"  Power        = {power:.3f}\")"
   ]
  },
  {
   "cell_type": "markdown",
   "id": "56dd4353",
   "metadata": {},
   "source": [
    "# Выводы при n = 25, 100, 500"
   ]
  },
  {
   "cell_type": "markdown",
   "id": "1711be44",
   "metadata": {},
   "source": [
    "- c ростом n качество повышается: растет AUC, accuracy, power. Две модели из трех справились неплохо. О них чуть ниже."
   ]
  },
  {
   "cell_type": "markdown",
   "id": "4d4bfa53",
   "metadata": {},
   "source": [
    "# Лучшая модель - классическая логическая регрессия."
   ]
  },
  {
   "cell_type": "markdown",
   "id": "8b354996",
   "metadata": {},
   "source": [
    "- логрег и случайный лес справились почти одинаково, но на n=100 был небольшой перевес логрега, поэтому я выбрал именно ее. При n = 25 accuracy составила 0.75, при n = 100: 0.95 и при n =500: 1.0"
   ]
  },
  {
   "cell_type": "markdown",
   "id": "f5de4e2a",
   "metadata": {},
   "source": [
    "- вероятность ошибки на разных выборках составила 0.27, 0.03 и 0. Дисперсии также на достйном уровне(показаны в выходном окошке)."
   ]
  },
  {
   "cell_type": "markdown",
   "id": "92e6a757",
   "metadata": {},
   "source": [
    "# ВСЕ!"
   ]
  }
 ],
 "metadata": {
  "kernelspec": {
   "display_name": "venv",
   "language": "python",
   "name": "python3"
  },
  "language_info": {
   "codemirror_mode": {
    "name": "ipython",
    "version": 3
   },
   "file_extension": ".py",
   "mimetype": "text/x-python",
   "name": "python",
   "nbconvert_exporter": "python",
   "pygments_lexer": "ipython3",
   "version": "3.13.2"
  }
 },
 "nbformat": 4,
 "nbformat_minor": 5
}
