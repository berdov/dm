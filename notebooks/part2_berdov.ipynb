{
 "cells": [
  {
   "cell_type": "markdown",
   "id": "c902dd0c",
   "metadata": {},
   "source": [
    "## Часть 2\n",
    "\n"
   ]
  },
  {
   "cell_type": "markdown",
   "id": "f1cad562",
   "metadata": {},
   "source": [
    "- Я хочу проанализировать все возможные характеристики для KNN-графа и выбрать, какая из них работает лучше. Это минимальная и макимальная степени, число точек сочленения, число треугольников и число компонент связности."
   ]
  },
  {
   "cell_type": "code",
   "execution_count": 39,
   "id": "676ef94b",
   "metadata": {},
   "outputs": [
    {
     "data": {
      "text/plain": [
       "<module 'functions' from '/Users/berdov/dm_pr/dm/src/functions.py'>"
      ]
     },
     "execution_count": 39,
     "metadata": {},
     "output_type": "execute_result"
    }
   ],
   "source": [
    "import sys\n",
    "import os\n",
    "\n",
    "sys.path.append(os.path.abspath(os.path.join('..', 'src')))\n",
    "\n",
    "import importlib\n",
    "import functions\n",
    "importlib.reload(functions)"
   ]
  },
  {
   "cell_type": "code",
   "execution_count": 40,
   "id": "4f7b9a46",
   "metadata": {},
   "outputs": [],
   "source": [
    "from functions import max_degree\n",
    "from functions import min_degree\n",
    "from functions import count_articulation_points\n",
    "from functions import count_triangles\n",
    "from functions import count_components"
   ]
  },
  {
   "cell_type": "markdown",
   "id": "c70ac1c0",
   "metadata": {},
   "source": [
    "- Теперь я подключу функции генерации распределений и многократного проведения эксперимента\n"
   ]
  },
  {
   "cell_type": "code",
   "execution_count": 41,
   "id": "2aeaa4ab",
   "metadata": {},
   "outputs": [],
   "source": [
    "from functions import (\n",
    "    build_knn_graph,\n",
    "    sample_normal,\n",
    "    sample_t,\n",
    "    monte_carlo_characteristic\n",
    ")"
   ]
  },
  {
   "cell_type": "markdown",
   "id": "72307376",
   "metadata": {},
   "source": [
    "- Теперь все готово к анализу, какая же характеристика лучше"
   ]
  },
  {
   "cell_type": "code",
   "execution_count": 42,
   "id": "75b327d6",
   "metadata": {},
   "outputs": [
    {
     "name": "stdout",
     "output_type": "stream",
     "text": [
      "Анализ: Макс. степень\n",
      "Анализ: Мин. степень\n",
      "Анализ: Компоненты\n",
      "Анализ: Сочленения\n",
      "Анализ: Треугольники\n",
      "  Характеристика  AUC ROC  Power (H1)  Порог (95% H0)\n",
      "0  Макс. степень    0.594       0.020           19.00\n",
      "1   Мин. степень    0.500       0.000           10.00\n",
      "2     Компоненты    0.507       0.000            2.00\n",
      "3     Сочленения    0.512       0.020            3.00\n",
      "4   Треугольники    0.683       0.127         7547.05\n"
     ]
    }
   ],
   "source": [
    "import numpy as np\n",
    "import pandas as pd\n",
    "from sklearn.metrics import roc_auc_score\n",
    "import matplotlib.pyplot as plt\n",
    "\n",
    "\n",
    "n = 500\n",
    "k = 10\n",
    "n_sim = 300\n",
    "alpha = 0.05\n",
    "\n",
    "\n",
    "characteristics = {\n",
    "    'Макс. степень': max_degree,\n",
    "    'Мин. степень': min_degree,\n",
    "    'Компоненты': count_components,\n",
    "    'Сочленения': count_articulation_points,\n",
    "    'Треугольники': count_triangles\n",
    "}\n",
    "\n",
    "summary = []\n",
    "\n",
    "\n",
    "for name, func in characteristics.items():\n",
    "    print(f\"Анализ: {name}\")\n",
    "\n",
    "    T_H0 = monte_carlo_characteristic(sample_normal, lambda X: build_knn_graph(X, k), func, 1, n=n, n_sim=n_sim)\n",
    "    T_H1 = monte_carlo_characteristic(sample_t, lambda X: build_knn_graph(X, k), func, 3, n=n, n_sim=n_sim)\n",
    "\n",
    "    threshold = np.percentile(T_H0, 100 * (1 - alpha))\n",
    "    power = np.mean(T_H1 > threshold)\n",
    "    auc = roc_auc_score([0] * len(T_H0) + [1] * len(T_H1), np.concatenate([T_H0, T_H1]))\n",
    "\n",
    "    summary.append({\n",
    "        'Характеристика': name,\n",
    "        'AUC ROC': round(auc, 3),\n",
    "        'Power (H1)': round(power, 3),\n",
    "        'Порог (95% H0)': round(threshold, 2)\n",
    "    })\n",
    "\n",
    "\n",
    "df_summary = pd.DataFrame(summary)\n",
    "print(df_summary)"
   ]
  },
  {
   "cell_type": "markdown",
   "id": "a3549d8a",
   "metadata": {},
   "source": [
    "# Вывод для KNN-графа"
   ]
  },
  {
   "cell_type": "markdown",
   "id": "6e4ff647",
   "metadata": {},
   "source": [
    "- отвратительно отработали абсолютно все арактеристики, буду все переделывать. Теперь буду строить DIST-граф и считать у него хроматическое число, кликовое число, размер максимального независимого множества, доминирующее число, размер минимального кликового покрытия"
   ]
  },
  {
   "cell_type": "code",
   "execution_count": 43,
   "id": "cd9d0436",
   "metadata": {},
   "outputs": [],
   "source": [
    "from functions import chromatic_number\n",
    "from functions import clique_number\n",
    "from functions import max_independent_set_size\n",
    "from functions import domination_number\n",
    "from functions import clique_cover_number"
   ]
  },
  {
   "cell_type": "markdown",
   "id": "ccb226a2",
   "metadata": {},
   "source": [
    "- повторим анализ аналогичным образом"
   ]
  },
  {
   "cell_type": "code",
   "execution_count": 44,
   "id": "90b5b2f8",
   "metadata": {},
   "outputs": [],
   "source": [
    "from functions import (\n",
    "    build_dist_graph,\n",
    "    sample_normal,\n",
    "    sample_t,\n",
    "    monte_carlo_characteristic\n",
    ")\n",
    "\n",
    "\n",
    "from networkx.algorithms import approximation as approx"
   ]
  },
  {
   "cell_type": "code",
   "execution_count": 45,
   "id": "602afc4b",
   "metadata": {},
   "outputs": [
    {
     "name": "stdout",
     "output_type": "stream",
     "text": [
      "Анализ: Хроматическое число\n",
      "Анализ: Кликовое число\n",
      "Анализ: Макс. независимое множество\n",
      "Анализ: Доминирование\n",
      "Анализ: Кликовое покрытие\n"
     ]
    },
    {
     "ename": "AttributeError",
     "evalue": "'function' object has no attribute 'clique_removal'",
     "output_type": "error",
     "traceback": [
      "\u001b[31m---------------------------------------------------------------------------\u001b[39m",
      "\u001b[31mAttributeError\u001b[39m                            Traceback (most recent call last)",
      "\u001b[36mCell\u001b[39m\u001b[36m \u001b[39m\u001b[32mIn[45]\u001b[39m\u001b[32m, line 19\u001b[39m\n\u001b[32m     16\u001b[39m \u001b[38;5;28;01mfor\u001b[39;00m name, func \u001b[38;5;129;01min\u001b[39;00m characteristics.items():\n\u001b[32m     17\u001b[39m     \u001b[38;5;28mprint\u001b[39m(\u001b[33mf\u001b[39m\u001b[33m\"\u001b[39m\u001b[33mАнализ: \u001b[39m\u001b[38;5;132;01m{\u001b[39;00mname\u001b[38;5;132;01m}\u001b[39;00m\u001b[33m\"\u001b[39m)\n\u001b[32m---> \u001b[39m\u001b[32m19\u001b[39m     T_H0 = \u001b[43mmonte_carlo_characteristic\u001b[49m\u001b[43m(\u001b[49m\u001b[43msample_normal\u001b[49m\u001b[43m,\u001b[49m\u001b[43m \u001b[49m\u001b[38;5;28;43;01mlambda\u001b[39;49;00m\u001b[43m \u001b[49m\u001b[43mX\u001b[49m\u001b[43m:\u001b[49m\u001b[43m \u001b[49m\u001b[43mbuild_dist_graph\u001b[49m\u001b[43m(\u001b[49m\u001b[43mX\u001b[49m\u001b[43m,\u001b[49m\u001b[43m \u001b[49m\u001b[43md\u001b[49m\u001b[43m)\u001b[49m\u001b[43m,\u001b[49m\u001b[43m \u001b[49m\u001b[43mfunc\u001b[49m\u001b[43m,\u001b[49m\u001b[43m \u001b[49m\u001b[32;43m1\u001b[39;49m\u001b[43m,\u001b[49m\u001b[43m \u001b[49m\u001b[43mn\u001b[49m\u001b[43m=\u001b[49m\u001b[43mn\u001b[49m\u001b[43m,\u001b[49m\u001b[43m \u001b[49m\u001b[43mn_sim\u001b[49m\u001b[43m=\u001b[49m\u001b[43mn_sim\u001b[49m\u001b[43m)\u001b[49m\n\u001b[32m     20\u001b[39m     T_H1 = monte_carlo_characteristic(sample_t, \u001b[38;5;28;01mlambda\u001b[39;00m X: build_dist_graph(X, d), func, \u001b[32m3\u001b[39m, n=n, n_sim=n_sim)\n\u001b[32m     22\u001b[39m     threshold = np.percentile(T_H0, \u001b[32m100\u001b[39m * (\u001b[32m1\u001b[39m - alpha))\n",
      "\u001b[36mFile \u001b[39m\u001b[32m~/dm_pr/dm/src/functions.py:58\u001b[39m, in \u001b[36mmonte_carlo_characteristic\u001b[39m\u001b[34m(sample_func, graph_func, char_func, n_sim, n, *sample_args)\u001b[39m\n\u001b[32m     56\u001b[39m     X = sample_func(n, *sample_args)\n\u001b[32m     57\u001b[39m     G = graph_func(X)\n\u001b[32m---> \u001b[39m\u001b[32m58\u001b[39m     T = \u001b[43mchar_func\u001b[49m\u001b[43m(\u001b[49m\u001b[43mG\u001b[49m\u001b[43m)\u001b[49m\n\u001b[32m     59\u001b[39m     results.append(T)\n\u001b[32m     60\u001b[39m \u001b[38;5;28;01mreturn\u001b[39;00m np.array(results)\n",
      "\u001b[36mFile \u001b[39m\u001b[32m~/dm_pr/dm/src/functions.py:91\u001b[39m, in \u001b[36mclique_cover_number\u001b[39m\u001b[34m(G)\u001b[39m\n\u001b[32m     89\u001b[39m \u001b[38;5;28;01mdef\u001b[39;00m\u001b[38;5;250m \u001b[39m\u001b[34mclique_cover_number\u001b[39m(G):\n\u001b[32m     90\u001b[39m     complement = nx.complement(G)\n\u001b[32m---> \u001b[39m\u001b[32m91\u001b[39m     independent_sets = \u001b[43mnx\u001b[49m\u001b[43m.\u001b[49m\u001b[43malgorithms\u001b[49m\u001b[43m.\u001b[49m\u001b[43mapproximation\u001b[49m\u001b[43m.\u001b[49m\u001b[43mmax_clique\u001b[49m\u001b[43m.\u001b[49m\u001b[43mclique_removal\u001b[49m(complement)[\u001b[32m0\u001b[39m]\n\u001b[32m     92\u001b[39m     \u001b[38;5;28;01mreturn\u001b[39;00m \u001b[38;5;28mlen\u001b[39m(independent_sets)\n",
      "\u001b[31mAttributeError\u001b[39m: 'function' object has no attribute 'clique_removal'"
     ]
    }
   ],
   "source": [
    "n = 500\n",
    "d = 0.3\n",
    "n_sim = 200\n",
    "alpha = 0.05\n",
    "\n",
    "characteristics = {\n",
    "    'Хроматическое число': chromatic_number,\n",
    "    'Кликовое число': clique_number,\n",
    "    'Макс. независимое множество': max_independent_set_size,\n",
    "    'Доминирование': domination_number,\n",
    "    'Кликовое покрытие': clique_cover_number\n",
    "}\n",
    "\n",
    "summary = []\n",
    "\n",
    "for name, func in characteristics.items():\n",
    "    print(f\"Анализ: {name}\")\n",
    "\n",
    "    T_H0 = monte_carlo_characteristic(sample_normal, lambda X: build_dist_graph(X, d), func, 1, n=n, n_sim=n_sim)\n",
    "    T_H1 = monte_carlo_characteristic(sample_t, lambda X: build_dist_graph(X, d), func, 3, n=n, n_sim=n_sim)\n",
    "\n",
    "    threshold = np.percentile(T_H0, 100 * (1 - alpha))\n",
    "    power = np.mean(T_H1 > threshold)\n",
    "    auc = roc_auc_score([0] * len(T_H0) + [1] * len(T_H1), np.concatenate([T_H0, T_H1]))\n",
    "\n",
    "    summary.append({\n",
    "        'Характеристика': name,\n",
    "        'AUC ROC': round(auc, 3),\n",
    "        'Power (H1)': round(power, 3),\n",
    "        'Порог (95% H0)': round(threshold, 2)\n",
    "    })\n",
    "\n",
    "df_summary = pd.DataFrame(summary)\n",
    "print(df_summary)"
   ]
  }
 ],
 "metadata": {
  "kernelspec": {
   "display_name": "venv",
   "language": "python",
   "name": "python3"
  },
  "language_info": {
   "codemirror_mode": {
    "name": "ipython",
    "version": 3
   },
   "file_extension": ".py",
   "mimetype": "text/x-python",
   "name": "python",
   "nbconvert_exporter": "python",
   "pygments_lexer": "ipython3",
   "version": "3.13.2"
  }
 },
 "nbformat": 4,
 "nbformat_minor": 5
}
